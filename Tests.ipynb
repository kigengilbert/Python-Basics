{
 "cells": [
  {
   "cell_type": "code",
   "execution_count": 1,
   "metadata": {},
   "outputs": [],
   "source": [
    "import  unittest\n",
    "import ipynb.fs\n",
    "from .defs.Classes import *\n"
   ]
  },
  {
   "cell_type": "code",
   "execution_count": 2,
   "metadata": {},
   "outputs": [
    {
     "name": "stderr",
     "output_type": "stream",
     "text": [
      ".."
     ]
    },
    {
     "name": "stdout",
     "output_type": "stream",
     "text": [
      "vehicle is fully charged\n"
     ]
    },
    {
     "name": "stderr",
     "output_type": "stream",
     "text": [
      "\n",
      "----------------------------------------------------------------------\n",
      "Ran 2 tests in 0.005s\n",
      "\n",
      "OK\n"
     ]
    }
   ],
   "source": [
    "class Classunists(unittest.TestCase):\n",
    "    \n",
    "    def setUp(self):\n",
    "        self.car = Car('porsche','P11',2018)\n",
    "    \n",
    "    def test_class(self):  \n",
    "        self.assertEqual(self.car.make,'porsche')\n",
    "        self.assertEqual(self.car.model,'P11')\n",
    "        self.assertEqual(self.car.year,2018)\n",
    "\n",
    "    def test_Electric(self):\n",
    "        electric = ElectricCar('Audi','R5',2019)\n",
    "        electric.charge()\n",
    "        self.assertEqual(electric.charge_level,100)\n",
    "             \n",
    "if __name__ == '__main__' :\n",
    "    unittest.main(argv=['first-arg-is-ignored'], exit=False)  dfdfddhrsf"
   ]
  },
  {
   "cell_type": "code",
   "execution_count": null,
   "metadata": {},
   "outputs": [],
   "source": []
  }
 ],
 "metadata": {
  "kernelspec": {
   "display_name": "Python 3",
   "language": "python",
   "name": "python3"
  },
  "language_info": {
   "codemirror_mode": {
    "name": "ipython",
    "version": 3
   },
   "file_extension": ".py",
   "mimetype": "text/x-python",
   "name": "python",
   "nbconvert_exporter": "python",
   "pygments_lexer": "ipython3",
   "version": "3.7.3"
  }
 },
 "nbformat": 4,
 "nbformat_minor": 2
}
