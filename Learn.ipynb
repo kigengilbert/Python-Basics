{
 "cells": [
  {
   "cell_type": "markdown",
   "metadata": {},
   "source": [
    "# __Learning Python__"
   ]
  },
  {
   "cell_type": "code",
   "execution_count": 1,
   "metadata": {},
   "outputs": [
    {
     "name": "stdout",
     "output_type": "stream",
     "text": [
      "Hello world\n"
     ]
    }
   ],
   "source": [
    "print(\"Hello world\")"
   ]
  },
  {
   "cell_type": "code",
   "execution_count": 9,
   "metadata": {},
   "outputs": [
    {
     "name": "stdout",
     "output_type": "stream",
     "text": [
      "trek\n",
      "redline\n",
      "giant\n",
      "yamaha\n"
     ]
    }
   ],
   "source": [
    "bikes=['trek','redline','giant']\n",
    "bikes.append('yamaha')\n",
    "for bike in bikes:\n",
    "    print(bike)"
   ]
  },
  {
   "cell_type": "code",
   "execution_count": 12,
   "metadata": {},
   "outputs": [],
   "source": [
    "squares=[]\n",
    "\n",
    "for x in range(1,22):\n",
    "    squares.append(x)\n"
   ]
  },
  {
   "cell_type": "code",
   "execution_count": 14,
   "metadata": {},
   "outputs": [
    {
     "name": "stdout",
     "output_type": "stream",
     "text": [
      "1\n",
      "4\n",
      "9\n",
      "16\n",
      "25\n",
      "36\n",
      "49\n",
      "64\n",
      "81\n",
      "100\n"
     ]
    }
   ],
   "source": [
    "numbers=[x**2 for x in range(1,11)]\n",
    "for number in numbers:\n",
    "    print(number)"
   ]
  },
  {
   "cell_type": "code",
   "execution_count": 19,
   "metadata": {},
   "outputs": [
    {
     "name": "stdout",
     "output_type": "stream",
     "text": [
      "[1, 4, 9, 16, 25, 36, 49, 64, 81, 100]\n",
      "[36, 49, 64, 81, 100]\n"
     ]
    }
   ],
   "source": [
    "print(numbers[:])\n",
    "print(numbers[5:])"
   ]
  },
  {
   "cell_type": "code",
   "execution_count": 36,
   "metadata": {},
   "outputs": [
    {
     "name": "stdout",
     "output_type": "stream",
     "text": [
      "enter age:50\n",
      "you are 50 years old\n"
     ]
    }
   ],
   "source": [
    "age= input('enter age:')\n",
    "print('you are ' + age +  ' years old' )"
   ]
  },
  {
   "cell_type": "markdown",
   "metadata": {},
   "source": [
    "# LOOPS"
   ]
  },
  {
   "cell_type": "markdown",
   "metadata": {},
   "source": [
    "while loop"
   ]
  },
  {
   "cell_type": "code",
   "execution_count": 26,
   "metadata": {},
   "outputs": [
    {
     "name": "stdout",
     "output_type": "stream",
     "text": [
      "1\n",
      "2\n",
      "3\n",
      "4\n"
     ]
    }
   ],
   "source": [
    "current_value=1;\n",
    "while current_value < 5 :\n",
    "    print(current_value)\n",
    "    current_value +=1\n",
    "    "
   ]
  },
  {
   "cell_type": "markdown",
   "metadata": {},
   "source": [
    "for loop"
   ]
  },
  {
   "cell_type": "code",
   "execution_count": 1,
   "metadata": {},
   "outputs": [
    {
     "name": "stdout",
     "output_type": "stream",
     "text": [
      "sam\n",
      "isaac\n",
      "alfie\n"
     ]
    }
   ],
   "source": [
    "users= ['sam','isaac','alfie']\n",
    "\n",
    "for user in users:\n",
    "    print(user)"
   ]
  },
  {
   "cell_type": "markdown",
   "metadata": {},
   "source": [
    "# Functions"
   ]
  },
  {
   "cell_type": "code",
   "execution_count": 2,
   "metadata": {},
   "outputs": [
    {
     "name": "stdout",
     "output_type": "stream",
     "text": [
      "hello\n"
     ]
    }
   ],
   "source": [
    "def greet_user():\n",
    "    print('hello')\n",
    "greet_user()\n"
   ]
  },
  {
   "cell_type": "code",
   "execution_count": 39,
   "metadata": {},
   "outputs": [
    {
     "name": "stdout",
     "output_type": "stream",
     "text": [
      "Your username is Joe\n"
     ]
    }
   ],
   "source": [
    "def great_user(username):\n",
    "    print('Your username is '+ username)\n",
    "    \n",
    "great_user('Joe')"
   ]
  },
  {
   "cell_type": "code",
   "execution_count": 6,
   "metadata": {},
   "outputs": [
    {
     "name": "stdout",
     "output_type": "stream",
     "text": [
      "Your pizza topping is beef\n",
      "Your pizza topping is peperoni\n"
     ]
    }
   ],
   "source": [
    "def pizza(topping='beef'):\n",
    "    print('Your pizza topping is '+ topping)\n",
    "    \n",
    "pizza()\n",
    "pizza('peperoni')"
   ]
  },
  {
   "cell_type": "code",
   "execution_count": 17,
   "metadata": {},
   "outputs": [],
   "source": [
    "def printname(name=None): #optional argument\n",
    "    print('Your name:'  + name )\n",
    "    \n"
   ]
  },
  {
   "cell_type": "code",
   "execution_count": 13,
   "metadata": {},
   "outputs": [
    {
     "name": "stdout",
     "output_type": "stream",
     "text": [
      "jimi hendrix\n"
     ]
    }
   ],
   "source": [
    "def get_full_name(first, last):\n",
    "    full_name = first + ' ' + last\n",
    "    return full_name\n",
    "musician = get_full_name('jimi', 'hendrix')\n",
    "print(musician)"
   ]
  },
  {
   "cell_type": "markdown",
   "metadata": {},
   "source": [
    "__pass list to function__"
   ]
  },
  {
   "cell_type": "code",
   "execution_count": 19,
   "metadata": {},
   "outputs": [
    {
     "name": "stdout",
     "output_type": "stream",
     "text": [
      "your name is Sandra\n",
      "your name is Ted\n",
      "your name is Cheryl\n"
     ]
    }
   ],
   "source": [
    "def listnames(names):\n",
    "    for name in names:\n",
    "        print('your name is ' + name)\n",
    "usernames=['Sandra','Ted','Cheryl']\n",
    "listnames(usernames)"
   ]
  },
  {
   "cell_type": "markdown",
   "metadata": {},
   "source": [
    "__Arbinary number of arguments__"
   ]
  },
  {
   "cell_type": "code",
   "execution_count": 45,
   "metadata": {},
   "outputs": [
    {
     "name": "stdout",
     "output_type": "stream",
     "text": [
      "Make a pizza small pizza\n",
      "Toppings: \n",
      "- peperoni\n",
      "- BBQ\n",
      "- Chicken chicka\n"
     ]
    }
   ],
   "source": [
    "def make_pizza(size ,*toppings):\n",
    "    print('Make a pizza '+ size + \" pizza\")\n",
    "    print('Toppings: ')\n",
    "    for topping in toppings:\n",
    "        print('- ' + topping)\n",
    "make_pizza('small','peperoni','BBQ', 'Chicken chicka')"
   ]
  },
  {
   "cell_type": "markdown",
   "metadata": {},
   "source": [
    "__Altering List__"
   ]
  },
  {
   "cell_type": "code",
   "execution_count": 34,
   "metadata": {},
   "outputs": [
    {
     "name": "stdout",
     "output_type": "stream",
     "text": [
      "printing CRE\n",
      "printing GHC\n",
      "printing Science\n",
      "printing Kiswahili\n",
      "printing English\n",
      ".............................................\n",
      "model: CRE\n",
      "model: GHC\n",
      "model: Science\n",
      "model: Kiswahili\n",
      "model: English\n"
     ]
    }
   ],
   "source": [
    "def printmodels(unprinted, printed):\n",
    "    while unprinted:\n",
    "        current_print= unprinted.pop()\n",
    "        print('printing ' + current_print)\n",
    "        printed.append(current_print)\n",
    "unprinted = ['English','Kiswahili','Science','GHC','CRE']\n",
    "printed = []\n",
    "printmodels(unprinted,printed)\n",
    "print('.............................................')\n",
    "for model in printed:\n",
    "    print('model: ' + model)"
   ]
  },
  {
   "cell_type": "markdown",
   "metadata": {},
   "source": [
    "__Prevent alteration of list__"
   ]
  },
  {
   "cell_type": "code",
   "execution_count": 40,
   "metadata": {},
   "outputs": [
    {
     "name": "stdout",
     "output_type": "stream",
     "text": [
      "printing CRE\n",
      "printing GHC\n",
      "printing Science\n",
      "printing Kiswahili\n",
      "printing English\n",
      ".............................................\n",
      "model: English\n",
      "model: Kiswahili\n",
      "model: Science\n",
      "model: GHC\n",
      "model: CRE\n"
     ]
    }
   ],
   "source": [
    "def new_printmodels(unprinted, printed):\n",
    "    while unprinted:\n",
    "        current_print= unprinted.pop()\n",
    "        print('printing ' + current_print)\n",
    "        printed.append(current_print)\n",
    "new_unprinted = ['English','Kiswahili','Science','GHC','CRE']\n",
    "new_printed = []\n",
    "printmodels(new_unprinted[:],new_printed)\n",
    "print('.............................................')\n",
    "for model in new_unprinted:\n",
    "    print('model: ' + model)"
   ]
  },
  {
   "cell_type": "markdown",
   "metadata": {},
   "source": [
    "# Dictionary"
   ]
  },
  {
   "cell_type": "code",
   "execution_count": null,
   "metadata": {},
   "outputs": [],
   "source": []
  },
  {
   "cell_type": "code",
   "execution_count": 3,
   "metadata": {},
   "outputs": [],
   "source": [
    "alien={'color':'green' , 'points':5}"
   ]
  },
  {
   "cell_type": "code",
   "execution_count": 4,
   "metadata": {},
   "outputs": [
    {
     "name": "stdout",
     "output_type": "stream",
     "text": [
      "green\n"
     ]
    }
   ],
   "source": [
    "print(alien['color'])"
   ]
  },
  {
   "cell_type": "code",
   "execution_count": 5,
   "metadata": {},
   "outputs": [
    {
     "name": "stdout",
     "output_type": "stream",
     "text": [
      "5\n"
     ]
    }
   ],
   "source": [
    "print(alien['points'])"
   ]
  },
  {
   "cell_type": "code",
   "execution_count": 6,
   "metadata": {},
   "outputs": [],
   "source": [
    "alien['direction'] = 'North'"
   ]
  },
  {
   "cell_type": "code",
   "execution_count": 7,
   "metadata": {},
   "outputs": [
    {
     "name": "stdout",
     "output_type": "stream",
     "text": [
      "North\n"
     ]
    }
   ],
   "source": [
    "print(alien['direction'])"
   ]
  },
  {
   "cell_type": "code",
   "execution_count": 55,
   "metadata": {},
   "outputs": [],
   "source": [
    "del  alien['direction']"
   ]
  },
  {
   "cell_type": "code",
   "execution_count": 8,
   "metadata": {},
   "outputs": [
    {
     "name": "stdout",
     "output_type": "stream",
     "text": [
      "North\n"
     ]
    }
   ],
   "source": [
    "print(alien['direction'])"
   ]
  },
  {
   "cell_type": "code",
   "execution_count": 15,
   "metadata": {},
   "outputs": [
    {
     "name": "stdout",
     "output_type": "stream",
     "text": [
      "Feature: color   Value: green\n",
      "Feature: points   Value: 5\n",
      "Feature: direction   Value: North\n"
     ]
    }
   ],
   "source": [
    "for feature,value in alien.items():\n",
    "    print('Feature: ' + feature +  '   Value: ' + str(value))"
   ]
  },
  {
   "cell_type": "markdown",
   "metadata": {},
   "source": [
    "__Multi level dictionary__"
   ]
  },
  {
   "cell_type": "code",
   "execution_count": 28,
   "metadata": {},
   "outputs": [],
   "source": [
    "users= []"
   ]
  },
  {
   "cell_type": "code",
   "execution_count": 29,
   "metadata": {},
   "outputs": [],
   "source": [
    "new_user={\n",
    "    'name':'Gilbert',\n",
    "    'age': 24,\n",
    "    'id_no': 30956183\n",
    "}"
   ]
  },
  {
   "cell_type": "code",
   "execution_count": 31,
   "metadata": {},
   "outputs": [],
   "source": [
    "users.append(new_user)"
   ]
  },
  {
   "cell_type": "code",
   "execution_count": 36,
   "metadata": {},
   "outputs": [
    {
     "name": "stdout",
     "output_type": "stream",
     "text": [
      "name\n",
      "age\n",
      "id_no\n",
      "name\n",
      "age\n",
      "id_no\n"
     ]
    }
   ],
   "source": [
    "for user in users:\n",
    "    for name, age in user.items():\n",
    "        print(name)"
   ]
  },
  {
   "cell_type": "markdown",
   "metadata": {},
   "source": [
    "__Nested lists__"
   ]
  },
  {
   "cell_type": "code",
   "execution_count": 40,
   "metadata": {},
   "outputs": [
    {
     "name": "stdout",
     "output_type": "stream",
     "text": [
      "python\n",
      "java\n",
      "c\n",
      "ruby\n",
      "go\n",
      "haskel\n"
     ]
    }
   ],
   "source": [
    "fav_langs={\n",
    "    'jen':['python','java'],\n",
    "    'sarah':['c'],\n",
    "    'edward':['ruby','go','haskel']\n",
    "}\n",
    "\n",
    "\n",
    "for name ,lang in fav_langs.items():\n",
    "    for langunit in lang:\n",
    "        print(langunit)\n",
    "    "
   ]
  },
  {
   "cell_type": "code",
   "execution_count": 51,
   "metadata": {},
   "outputs": [],
   "source": [
    "users={\n",
    "    'kim' : {\n",
    "        'first':'Kevin',\n",
    "        'last':'Kimutai',\n",
    "    },\n",
    "    'mcurie':{\n",
    "        'first':'Marie',\n",
    "        'last':'Curie',\n",
    "    }\n",
    "}"
   ]
  },
  {
   "cell_type": "code",
   "execution_count": 57,
   "metadata": {},
   "outputs": [
    {
     "name": "stdout",
     "output_type": "stream",
     "text": [
      "user: kim   First Name : Kevin     Last name: Kimutai\n",
      "user: mcurie   First Name : Marie     Last name: Curie\n"
     ]
    }
   ],
   "source": [
    "for user,details in users.items():\n",
    "    print('user: ' + user + '   First Name : ' + details['first'] + '     Last name: '+ details['last'])\n",
    "    "
   ]
  },
  {
   "cell_type": "markdown",
   "metadata": {},
   "source": [
    "__Conditionals__"
   ]
  },
  {
   "cell_type": "code",
   "execution_count": 58,
   "metadata": {},
   "outputs": [],
   "source": [
    "players=['ali','steve','kevin']"
   ]
  },
  {
   "cell_type": "code",
   "execution_count": 62,
   "metadata": {},
   "outputs": [
    {
     "data": {
      "text/plain": [
       "True"
      ]
     },
     "execution_count": 62,
     "metadata": {},
     "output_type": "execute_result"
    }
   ],
   "source": [
    "'ali' in players"
   ]
  },
  {
   "cell_type": "code",
   "execution_count": 63,
   "metadata": {},
   "outputs": [
    {
     "data": {
      "text/plain": [
       "False"
      ]
     },
     "execution_count": 63,
     "metadata": {},
     "output_type": "execute_result"
    }
   ],
   "source": [
    "'test' in players"
   ]
  },
  {
   "cell_type": "code",
   "execution_count": 68,
   "metadata": {},
   "outputs": [
    {
     "name": "stdout",
     "output_type": "stream",
     "text": [
      "player not found\n"
     ]
    }
   ],
   "source": [
    "player='alki'\n",
    "\n",
    "if player  not in players:\n",
    "    print('player not found')\n",
    "else:\n",
    "    print('yes ')"
   ]
  },
  {
   "cell_type": "code",
   "execution_count": 3,
   "metadata": {},
   "outputs": [
    {
     "name": "stdout",
     "output_type": "stream",
     "text": [
      "Enter your city quit\n",
      "Your city is quit\n"
     ]
    }
   ],
   "source": [
    "active = True\n",
    "while active:\n",
    "    city = input('Enter your city ')\n",
    "    print('Your city is ' + city)\n",
    "    if city == 'quit':\n",
    "        active = False\n",
    "        "
   ]
  },
  {
   "cell_type": "markdown",
   "metadata": {},
   "source": [
    "Remove all instances of item in list"
   ]
  },
  {
   "cell_type": "code",
   "execution_count": 5,
   "metadata": {},
   "outputs": [
    {
     "name": "stdout",
     "output_type": "stream",
     "text": [
      "dog\n",
      "donkey\n",
      "horse\n",
      "rabit\n"
     ]
    }
   ],
   "source": [
    "domestic=['cat','dog','donkey','cat','horse','cat','rabit']\n",
    "\n",
    "while 'cat' in domestic:\n",
    "    domestic.remove('cat')\n",
    "for animals in domestic:\n",
    "    print(animals)"
   ]
  },
  {
   "cell_type": "markdown",
   "metadata": {},
   "source": [
    "alter list"
   ]
  },
  {
   "cell_type": "code",
   "execution_count": null,
   "metadata": {},
   "outputs": [],
   "source": []
  },
  {
   "cell_type": "code",
   "execution_count": null,
   "metadata": {},
   "outputs": [],
   "source": []
  },
  {
   "cell_type": "code",
   "execution_count": null,
   "metadata": {},
   "outputs": [],
   "source": []
  }
 ],
 "metadata": {
  "kernelspec": {
   "display_name": "Python 3",
   "language": "python",
   "name": "python3"
  },
  "language_info": {
   "codemirror_mode": {
    "name": "ipython",
    "version": 3
   },
   "file_extension": ".py",
   "mimetype": "text/x-python",
   "name": "python",
   "nbconvert_exporter": "python",
   "pygments_lexer": "ipython3",
   "version": "3.7.3"
  }
 },
 "nbformat": 4,
 "nbformat_minor": 2
}
