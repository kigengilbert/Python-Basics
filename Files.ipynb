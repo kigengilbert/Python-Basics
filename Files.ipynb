{
 "cells": [
  {
   "cell_type": "markdown",
   "metadata": {},
   "source": [
    "Manipulate files"
   ]
  },
  {
   "cell_type": "markdown",
   "metadata": {},
   "source": [
    "__Read files  into list__"
   ]
  },
  {
   "cell_type": "code",
   "execution_count": 2,
   "metadata": {},
   "outputs": [
    {
     "name": "stdout",
     "output_type": "stream",
     "text": [
      "{\n",
      "\n",
      "  \"name\": \"saftest\",\n",
      "\n",
      "  \"version\": \"1.0.0\",\n",
      "\n",
      "  \"description\": \"Safaricom hackathon\",\n",
      "\n",
      "  \"main\": \"app.js\",\n",
      "\n",
      "  \"dependencies\": {\n",
      "\n",
      "    \"body-parser\": \"^1.19.0\",\n",
      "\n",
      "    \"cors\": \"^2.8.5\",\n",
      "\n",
      "    \"express\": \"^4.16.4\",\n",
      "\n",
      "    \"express-generator\": \"^4.16.1\",\n",
      "\n",
      "    \"mysql\": \"^2.17.1\"\n",
      "\n",
      "  },\n",
      "\n",
      "  \"devDependencies\": {},\n",
      "\n",
      "  \"scripts\": {\n",
      "\n",
      "    \"start\": \"node app.js\"\n",
      "\n",
      "  },\n",
      "\n",
      "  \"author\": \"Gilbert Kigen\",\n",
      "\n",
      "  \"license\": \"ISC\"\n",
      "\n",
      "}\n",
      "\n",
      "\n",
      "\n",
      " This is the last line of the file\n"
     ]
    }
   ],
   "source": [
    "filename = 'data.txt'\n",
    "with open(filename) as file_object:\n",
    "    lines = file_object.readlines()\n",
    "for line in lines:\n",
    "    print(line)"
   ]
  },
  {
   "cell_type": "markdown",
   "metadata": {},
   "source": [
    "Append files"
   ]
  },
  {
   "cell_type": "code",
   "execution_count": 7,
   "metadata": {},
   "outputs": [],
   "source": [
    "filename='data.txt'\n",
    "\n",
    "with open (filename,'a') as file_object:\n",
    "    file_object.write('\\n This is the last line of the file')"
   ]
  },
  {
   "cell_type": "code",
   "execution_count": 12,
   "metadata": {},
   "outputs": [
    {
     "name": "stdout",
     "output_type": "stream",
     "text": [
      "{\n",
      "\n",
      "  \"name\": \"saftest\",\n",
      "\n",
      "  \"version\": \"1.0.0\",\n",
      "\n",
      "  \"description\": \"Safaricom hackathon\",\n",
      "\n",
      "  \"main\": \"app.js\",\n",
      "\n",
      "  \"dependencies\": {\n",
      "\n",
      "    \"body-parser\": \"^1.19.0\",\n",
      "\n",
      "    \"cors\": \"^2.8.5\",\n",
      "\n",
      "    \"express\": \"^4.16.4\",\n",
      "\n",
      "    \"express-generator\": \"^4.16.1\",\n",
      "\n",
      "    \"mysql\": \"^2.17.1\"\n",
      "\n",
      "  },\n",
      "\n",
      "  \"devDependencies\": {},\n",
      "\n",
      "  \"scripts\": {\n",
      "\n",
      "    \"start\": \"node app.js\"\n",
      "\n",
      "  },\n",
      "\n",
      "  \"author\": \"Gilbert Kigen\",\n",
      "\n",
      "  \"license\": \"ISC\"\n",
      "\n",
      "}\n",
      "\n",
      "\n",
      "\n",
      " This is the last line of the file\n"
     ]
    }
   ],
   "source": [
    "with open(filename) as file:\n",
    "    newlines=  file.readlines()\n",
    "for line in newlines:\n",
    "    print(line)"
   ]
  },
  {
   "cell_type": "code",
   "execution_count": 10,
   "metadata": {},
   "outputs": [
    {
     "name": "stdout",
     "output_type": "stream",
     "text": [
      "{\n",
      "  \"name\": \"saftest\",\n",
      "  \"version\": \"1.0.0\",\n",
      "  \"description\": \"Safaricom hackathon\",\n",
      "  \"main\": \"app.js\",\n",
      "  \"dependencies\": {\n",
      "    \"body-parser\": \"^1.19.0\",\n",
      "    \"cors\": \"^2.8.5\",\n",
      "    \"express\": \"^4.16.4\",\n",
      "    \"express-generator\": \"^4.16.1\",\n",
      "    \"mysql\": \"^2.17.1\"\n",
      "  },\n",
      "  \"devDependencies\": {},\n",
      "  \"scripts\": {\n",
      "    \"start\": \"node app.js\"\n",
      "  },\n",
      "  \"author\": \"Gilbert Kigen\",\n",
      "  \"license\": \"ISC\"\n",
      "}\n",
      "\n",
      " This is the last line of the file\n"
     ]
    }
   ],
   "source": [
    "with open(filename) as newfile:\n",
    "    for line in newfile:\n",
    "        print(line.rstrip())\n",
    "        \n"
   ]
  },
  {
   "cell_type": "markdown",
   "metadata": {},
   "source": [
    "__Implement try and catch__"
   ]
  },
  {
   "cell_type": "code",
   "execution_count": 19,
   "metadata": {},
   "outputs": [
    {
     "name": "stdout",
     "output_type": "stream",
     "text": [
      "Can't find file datda.txt.\n"
     ]
    }
   ],
   "source": [
    "filename = 'datda.txt'\n",
    "try:\n",
    "    with open(filename) as file_object:\n",
    "        lines = file_object.readlines() \n",
    "        for line in lines:\n",
    "            print(line)\n",
    "except FileNotFoundError:\n",
    "    msg = \"Can't find file {0}.\".format(filename)\n",
    "    print(msg)"
   ]
  },
  {
   "cell_type": "code",
   "execution_count": null,
   "metadata": {},
   "outputs": [],
   "source": []
  }
 ],
 "metadata": {
  "kernelspec": {
   "display_name": "Python 3",
   "language": "python",
   "name": "python3"
  },
  "language_info": {
   "codemirror_mode": {
    "name": "ipython",
    "version": 3
   },
   "file_extension": ".py",
   "mimetype": "text/x-python",
   "name": "python",
   "nbconvert_exporter": "python",
   "pygments_lexer": "ipython3",
   "version": "3.7.3"
  }
 },
 "nbformat": 4,
 "nbformat_minor": 2
}
