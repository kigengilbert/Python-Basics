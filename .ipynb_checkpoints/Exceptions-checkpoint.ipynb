{
 "cells": [
  {
   "cell_type": "markdown",
   "metadata": {},
   "source": [
    "__Try else__"
   ]
  },
  {
   "cell_type": "code",
   "execution_count": 7,
   "metadata": {},
   "outputs": [
    {
     "name": "stdout",
     "output_type": "stream",
     "text": [
      "Input 2 numbers and divide them\n",
      " number 1: 5\n",
      " number 2: 0\n",
      "You are dividing by zero\n"
     ]
    }
   ],
   "source": [
    "print('Input 2 numbers and divide them')\n",
    "\n",
    "x = input(' number 1: ')\n",
    "y = input(' number 2: ')\n",
    "\n",
    "try:\n",
    "    result = int(x)/int(y)\n",
    "except ZeroDivisionError:\n",
    "    print('You are dividing by zero')\n",
    "    \n",
    "else: \n",
    "    print(result)\n",
    "    "
   ]
  },
  {
   "cell_type": "markdown",
   "metadata": {},
   "source": [
    "__Handle errors silently__"
   ]
  },
  {
   "cell_type": "code",
   "execution_count": 2,
   "metadata": {},
   "outputs": [
    {
     "name": "stdout",
     "output_type": "stream",
     "text": [
      "Enter two numbers. I'll divide them.\n",
      "Enter 'q' to quit.\n",
      "\n",
      "First number: 5\n",
      "Second number: 2\n",
      "Result is 2.5\n",
      "\n",
      "First number: q\n"
     ]
    }
   ],
   "source": [
    "print(\"Enter two numbers. I'll divide them.\") \n",
    "print(\"Enter 'q' to quit.\") \n",
    "while True:\n",
    "    x = input(\"\\nFirst number: \")\n",
    "    if x == 'q':\n",
    "        break \n",
    "    y = input(\"Second number: \")\n",
    "    if y == 'q':\n",
    "        break \n",
    "    try:\n",
    "        result = int(x) / int(y) \n",
    "    except ZeroDivisionError:\n",
    "        pass\n",
    "    else:\n",
    "        output = 'Result is {0}'.format(result)\n",
    "        print(output)"
   ]
  },
  {
   "cell_type": "code",
   "execution_count": null,
   "metadata": {},
   "outputs": [],
   "source": [
    "input"
   ]
  },
  {
   "cell_type": "code",
   "execution_count": null,
   "metadata": {},
   "outputs": [],
   "source": []
  }
 ],
 "metadata": {
  "kernelspec": {
   "display_name": "Python 3",
   "language": "python",
   "name": "python3"
  },
  "language_info": {
   "codemirror_mode": {
    "name": "ipython",
    "version": 3
   },
   "file_extension": ".py",
   "mimetype": "text/x-python",
   "name": "python",
   "nbconvert_exporter": "python",
   "pygments_lexer": "ipython3",
   "version": "3.7.3"
  }
 },
 "nbformat": 4,
 "nbformat_minor": 2
}
