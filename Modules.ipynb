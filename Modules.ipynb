{
 "cells": [
  {
   "cell_type": "markdown",
   "metadata": {},
   "source": [
    "# __Classes__"
   ]
  },
  {
   "cell_type": "code",
   "execution_count": 64,
   "metadata": {},
   "outputs": [],
   "source": [
    "class Car():\n",
    "    \n",
    "    def __init__(self,make,model,year):\n",
    "        self.make=make\n",
    "        self.model=model\n",
    "        self.year=year\n",
    "        # Fuel capacity\n",
    "        self.fuel_capacity=15\n",
    "        self.fuel_level=0\n",
    "        \n",
    "    def fill_tank(self):\n",
    "        self.fuel_level= self.fuel_capacity\n",
    "        print('Fuel tank is full')\n",
    "        \n",
    "    def drive(self):\n",
    "        print('Car is moving')\n",
    "    \n",
    "    def update_fuel(self ,new_level):\n",
    "        if(self.fuel_level <= self.fuel_capacity):\n",
    "            self.fuel_level += new_level\n",
    "        else:\n",
    "            print('Tank is full')\n",
    "    \n",
    "    \n",
    "    "
   ]
  },
  {
   "cell_type": "code",
   "execution_count": 65,
   "metadata": {},
   "outputs": [],
   "source": [
    "my_car =Car('Audi','i6',2012)\n"
   ]
  },
  {
   "cell_type": "code",
   "execution_count": 66,
   "metadata": {},
   "outputs": [
    {
     "name": "stdout",
     "output_type": "stream",
     "text": [
      "Audi\n"
     ]
    }
   ],
   "source": [
    "print(my_car.make)"
   ]
  },
  {
   "cell_type": "code",
   "execution_count": 67,
   "metadata": {},
   "outputs": [
    {
     "name": "stdout",
     "output_type": "stream",
     "text": [
      "Fuel tank is full\n"
     ]
    }
   ],
   "source": [
    "my_car.fill_tank()"
   ]
  },
  {
   "cell_type": "code",
   "execution_count": 68,
   "metadata": {},
   "outputs": [
    {
     "name": "stdout",
     "output_type": "stream",
     "text": [
      "Car is moving\n"
     ]
    }
   ],
   "source": [
    "my_car.drive()"
   ]
  },
  {
   "cell_type": "code",
   "execution_count": 69,
   "metadata": {},
   "outputs": [],
   "source": [
    "my_car.update_fuel(15)"
   ]
  },
  {
   "cell_type": "markdown",
   "metadata": {},
   "source": [
    "__Class should import object__"
   ]
  },
  {
   "cell_type": "code",
   "execution_count": 70,
   "metadata": {},
   "outputs": [],
   "source": [
    "class ElectricCar(Car):\n",
    "    \n",
    "    def __init__(self, make ,model,year):\n",
    "        super().__init__(make,model,year)\n",
    "        self.battery_size = 70\n",
    "        self.charge_level = 0\n",
    "    \n",
    "    def charge(self):\n",
    "        self.charge_level = 100\n",
    "        print('vehicle is fully charged')\n",
    "    \n",
    "    def fill_tank(self):\n",
    "        print('This car has no fuel tank')\n",
    "    \n"
   ]
  },
  {
   "cell_type": "code",
   "execution_count": 71,
   "metadata": {},
   "outputs": [],
   "source": [
    "electric_car = ElectricCar('BMW','X5',2019)"
   ]
  },
  {
   "cell_type": "code",
   "execution_count": 72,
   "metadata": {},
   "outputs": [
    {
     "name": "stdout",
     "output_type": "stream",
     "text": [
      "vehicle is fully charged\n",
      "Car is moving\n"
     ]
    }
   ],
   "source": [
    "electric_car.charge()\n",
    "electric_car.drive()"
   ]
  },
  {
   "cell_type": "markdown",
   "metadata": {},
   "source": [
    "__Overiding parent__\n"
   ]
  },
  {
   "cell_type": "code",
   "execution_count": 73,
   "metadata": {},
   "outputs": [
    {
     "name": "stdout",
     "output_type": "stream",
     "text": [
      "This car has no fuel tank\n"
     ]
    }
   ],
   "source": [
    "electric_car.fill_tank()"
   ]
  },
  {
   "cell_type": "markdown",
   "metadata": {},
   "source": [
    "__Using instance of class as attribute__"
   ]
  },
  {
   "cell_type": "code",
   "execution_count": 74,
   "metadata": {},
   "outputs": [],
   "source": [
    "class Battery():\n",
    "    \n",
    "    def __init__(self, size=70):\n",
    "        self.size=size\n",
    "        self.charge_level= 0\n",
    "    \n",
    "    def get_range(self):\n",
    "        if self.size == 70:\n",
    "            return 240\n",
    "        elif self.size == 85:\n",
    "            return 270\n",
    "        "
   ]
  },
  {
   "cell_type": "code",
   "execution_count": 75,
   "metadata": {},
   "outputs": [],
   "source": [
    "class newECar(Car):\n",
    "        def __init__(self,make, model, year):\n",
    "            super().__init__(make,model,year)\n",
    "            self.battery_size = 70\n",
    "            self.charge_level = 0\n",
    "            self.battery = Battery()\n",
    "        def charge(self):\n",
    "            self.battery.charge_level= 100\n",
    "            print('Battery charged to full capacity')"
   ]
  },
  {
   "cell_type": "code",
   "execution_count": 76,
   "metadata": {},
   "outputs": [],
   "source": [
    "new_Ecar = newECar('Tesla','Model S',2019)"
   ]
  },
  {
   "cell_type": "code",
   "execution_count": 77,
   "metadata": {},
   "outputs": [
    {
     "name": "stdout",
     "output_type": "stream",
     "text": [
      "Battery charged to full capacity\n"
     ]
    }
   ],
   "source": [
    "new_Ecar.charge()"
   ]
  },
  {
   "cell_type": "code",
   "execution_count": 78,
   "metadata": {},
   "outputs": [
    {
     "data": {
      "text/plain": [
       "240"
      ]
     },
     "execution_count": 78,
     "metadata": {},
     "output_type": "execute_result"
    }
   ],
   "source": [
    "new_Ecar.battery.get_range()"
   ]
  },
  {
   "cell_type": "markdown",
   "metadata": {},
   "source": [
    "_Fleet of cars_"
   ]
  },
  {
   "cell_type": "code",
   "execution_count": 79,
   "metadata": {},
   "outputs": [],
   "source": [
    "cars = []"
   ]
  },
  {
   "cell_type": "code",
   "execution_count": 81,
   "metadata": {},
   "outputs": [
    {
     "name": "stdout",
     "output_type": "stream",
     "text": [
      "Model S\n",
      "Model S\n",
      "Model S\n",
      "Model S\n",
      "Model S\n",
      "Model S\n",
      "Model S\n",
      "Model S\n",
      "Model S\n",
      "Model S\n",
      "Model S\n",
      "Model S\n",
      "Model S\n",
      "Model S\n",
      "Model S\n",
      "Model S\n",
      "Model S\n",
      "Model S\n",
      "Model S\n",
      "Model S\n",
      "Model S\n",
      "Model S\n",
      "Model S\n",
      "Model S\n",
      "Model S\n",
      "Model S\n",
      "Model S\n",
      "Model S\n",
      "Model S\n",
      "Model S\n",
      "Car is moving\n",
      "Car is moving\n",
      "Car is moving\n",
      "Car is moving\n",
      "Car is moving\n",
      "Car is moving\n",
      "Car is moving\n",
      "Car is moving\n",
      "Car is moving\n",
      "Car is moving\n",
      "Car is moving\n",
      "Car is moving\n",
      "Car is moving\n",
      "Car is moving\n",
      "Car is moving\n",
      "Car is moving\n",
      "Car is moving\n",
      "Car is moving\n",
      "Car is moving\n",
      "Car is moving\n",
      "Car is moving\n",
      "Car is moving\n",
      "Car is moving\n",
      "Car is moving\n",
      "Car is moving\n",
      "Car is moving\n",
      "Car is moving\n",
      "Car is moving\n",
      "Car is moving\n",
      "Car is moving\n"
     ]
    }
   ],
   "source": [
    "for _ in range(15):\n",
    "    car = Car('Tesla','Model S',2020)\n",
    "    cars.append(car)\n",
    "    \n",
    "for carunit in cars:\n",
    "    print(carunit.model)\n",
    "    \n",
    "for cardriver in cars:\n",
    "    cardriver.drive()\n",
    "\n",
    "    "
   ]
  },
  {
   "cell_type": "code",
   "execution_count": null,
   "metadata": {},
   "outputs": [],
   "source": []
  }
 ],
 "metadata": {
  "kernelspec": {
   "display_name": "Python 3",
   "language": "python",
   "name": "python3"
  },
  "language_info": {
   "codemirror_mode": {
    "name": "ipython",
    "version": 3
   },
   "file_extension": ".py",
   "mimetype": "text/x-python",
   "name": "python",
   "nbconvert_exporter": "python",
   "pygments_lexer": "ipython3",
   "version": "3.7.3"
  }
 },
 "nbformat": 4,
 "nbformat_minor": 2
}
